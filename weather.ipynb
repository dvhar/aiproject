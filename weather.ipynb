{
 "cells": [
  {
   "cell_type": "code",
   "execution_count": null,
   "metadata": {},
   "outputs": [],
   "source": [
    "import numpy as np\n",
    "from keras.models import Sequential\n",
    "from keras.layers import Dense\n",
    "from pprint import pprint\n",
    "from mymodel import mymodel\n",
    "import matplotlib.pyplot as plt\n",
    "import warnings\n",
    "warnings.filterwarnings(\"ignore\")"
   ]
  },
  {
   "cell_type": "code",
   "execution_count": null,
   "metadata": {},
   "outputs": [],
   "source": []
  },
  {
   "cell_type": "code",
   "execution_count": null,
   "metadata": {},
   "outputs": [],
   "source": [
    "#iteration is which file it loads, then saves to one higher if training\n",
    "iteration = 6"
   ]
  },
  {
   "cell_type": "code",
   "execution_count": null,
   "metadata": {
    "lines_to_next_cell": 2
   },
   "outputs": [],
   "source": [
    "#9 - main version\n",
    "#10 - linear nn\n",
    "#11 - linear regression\n",
    "#12 - logistic regression\n",
    "version = 9"
   ]
  },
  {
   "cell_type": "code",
   "execution_count": null,
   "metadata": {},
   "outputs": [],
   "source": [
    "#what to do\n",
    "training = False\n",
    "printweights = False\n",
    "runprediction = True\n",
    "plotting = True"
   ]
  },
  {
   "cell_type": "code",
   "execution_count": null,
   "metadata": {},
   "outputs": [],
   "source": [
    "filename = \"weatherCleaned4.csv\"\n",
    "outIdx = 16\n",
    "inIdx = 16\n",
    "epochs = 25000\n",
    "rowDelim = 50000"
   ]
  },
  {
   "cell_type": "code",
   "execution_count": null,
   "metadata": {},
   "outputs": [],
   "source": [
    "#load data from file\n",
    "data = np.genfromtxt(filename, delimiter=',')[1:]\n",
    "data = data[:,[2,3,4,5,6,8,11,12,13,14,15,16,17,18,19,20,23]]"
   ]
  },
  {
   "cell_type": "code",
   "execution_count": null,
   "metadata": {
    "lines_to_next_cell": 2
   },
   "outputs": [],
   "source": [
    "np.random.seed(100)\n",
    "np.random.shuffle(data)\n",
    "data = data.astype(float)"
   ]
  },
  {
   "cell_type": "code",
   "execution_count": null,
   "metadata": {},
   "outputs": [],
   "source": [
    "#separate training and testing data\n",
    "trainy = data[:rowDelim, outIdx]\n",
    "testy = data[rowDelim:, outIdx]\n",
    "trainx = data[:rowDelim, :inIdx]\n",
    "testx = data[rowDelim:, :inIdx]"
   ]
  },
  {
   "cell_type": "code",
   "execution_count": null,
   "metadata": {
    "lines_to_next_cell": 2
   },
   "outputs": [],
   "source": [
    "#normalize data\n",
    "mean = trainx.mean(axis=0)\n",
    "std = trainx.std(axis=0)\n",
    "trainx -= mean\n",
    "trainx /= std\n",
    "testx -= mean\n",
    "testx /= std"
   ]
  },
  {
   "cell_type": "code",
   "execution_count": null,
   "metadata": {},
   "outputs": [],
   "source": [
    "if printweights:\n",
    "    print('mean = ')\n",
    "    pprint(mean)\n",
    "    print('std = ')\n",
    "    pprint(std)"
   ]
  },
  {
   "cell_type": "code",
   "execution_count": null,
   "metadata": {},
   "outputs": [],
   "source": [
    "#create model\n",
    "model = Sequential()"
   ]
  },
  {
   "cell_type": "code",
   "execution_count": null,
   "metadata": {},
   "outputs": [],
   "source": [
    "if version == 9:\n",
    "    model.add(Dense(12, input_dim = 16, activation='tanh'))\n",
    "    model.add(Dense(10, input_dim = 12, activation='tanh'))\n",
    "    model.add(Dense(10, input_dim = 10, activation='tanh'))\n",
    "    model.add(Dense(1, input_dim = 10, activation='sigmoid'))\n",
    "if version == 10:\n",
    "    model.add(Dense(12, input_dim = 16, activation='linear'))\n",
    "    model.add(Dense(10, input_dim = 12, activation='linear'))\n",
    "    model.add(Dense(10, input_dim = 10, activation='linear'))\n",
    "    model.add(Dense(1, input_dim = 10, activation='linear'))\n",
    "if version == 11:\n",
    "    model.add(Dense(1, input_dim = 16, activation='linear'))\n",
    "if version == 12:\n",
    "    model.add(Dense(1, input_dim = 16, activation='sigmoid'))"
   ]
  },
  {
   "cell_type": "code",
   "execution_count": null,
   "metadata": {},
   "outputs": [],
   "source": [
    "model.compile(loss='mse', optimizer='adam')"
   ]
  },
  {
   "cell_type": "code",
   "execution_count": null,
   "metadata": {},
   "outputs": [],
   "source": [
    "#load previously trained weights\n",
    "if iteration > 0:\n",
    "    model.load_weights('./params'+str(version)+'-'+str(iteration))"
   ]
  },
  {
   "cell_type": "code",
   "execution_count": null,
   "metadata": {},
   "outputs": [],
   "source": [
    "#train the model\n",
    "if training:\n",
    "    history = model.fit(trainx, trainy, epochs=epochs ,batch_size=100, verbose = 2, validation_data = (testx, testy))\n",
    "    model.save_weights('./params'+str(version)+'-'+str(iteration+1))"
   ]
  },
  {
   "cell_type": "code",
   "execution_count": null,
   "metadata": {},
   "outputs": [],
   "source": [
    "#print weights and biases for mymodel\n",
    "if printweights:\n",
    "    for layer in model.layers:\n",
    "        print('weights = ')\n",
    "        pprint(layer.get_weights()[0])\n",
    "        print('biases = ')\n",
    "        pprint(layer.get_weights()[1])"
   ]
  },
  {
   "cell_type": "code",
   "execution_count": null,
   "metadata": {
    "lines_to_next_cell": 2
   },
   "outputs": [],
   "source": [
    "#test the model\n",
    "if runprediction:\n",
    "    koutput = np.squeeze(model.predict(testx))\n",
    "    myoutput = np.squeeze([mymodel(x) for x in testx])\n",
    "    print(\"kprediction      actual        myprediction\")\n",
    "    for i in range(20):\n",
    "        print(\"%10f    %10f     %10f\" % (koutput[i], testy[i], myoutput[i]))\n",
    "    print('keras mean squared error:  ',np.mean((koutput-testy)**2))\n",
    "    print('mymodel mean squared error:',np.mean((myoutput-testy)**2))\n",
    "\n",
    "    if plotting:\n",
    "        rainy = koutput[np.where(testy==1)]\n",
    "        notrainy = koutput[np.where(testy==0)]\n",
    "        plt.figure(figsize=(4,3.5))\n",
    "        bins = 30\n",
    "        plt.hist(notrainy, alpha=0.7, bins=bins, label='not rainy',  color='orange', normed=True)\n",
    "        plt.hist(rainy, alpha=0.5, bins=bins, label='rainy',  color='blue', normed=True)\n",
    "        plt.show()"
   ]
  }
 ],
 "metadata": {
  "jupytext": {
   "cell_metadata_filter": "-all",
   "executable": "/usr/bin/env python3",
   "main_language": "python",
   "notebook_metadata_filter": "-all"
  }
 },
 "nbformat": 4,
 "nbformat_minor": 2
}
