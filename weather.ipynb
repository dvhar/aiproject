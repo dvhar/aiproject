{
 "cells": [
  {
   "cell_type": "code",
   "execution_count": null,
   "metadata": {
    "lines_to_next_cell": 0
   },
   "outputs": [],
   "source": []
  },
  {
   "cell_type": "code",
   "execution_count": null,
   "metadata": {},
   "outputs": [],
   "source": [
    "import numpy as np\n",
    "from keras.models import Sequential\n",
    "from keras.layers import Dense\n",
    "import matplotlib.pyplot as plt"
   ]
  },
  {
   "cell_type": "markdown",
   "metadata": {},
   "source": [
    "versions:\n",
    "3 -> mse nn relu with rainfall output\n",
    "4 -> mse nn s with raintomorrow output"
   ]
  },
  {
   "cell_type": "code",
   "execution_count": null,
   "metadata": {},
   "outputs": [],
   "source": [
    "#iteration is which file it loads, then saves to one higher\n",
    "iteration = 4\n",
    "version = 4\n",
    "training = False"
   ]
  },
  {
   "cell_type": "code",
   "execution_count": null,
   "metadata": {},
   "outputs": [],
   "source": [
    "filename = \"weatherCleaned1.csv\""
   ]
  },
  {
   "cell_type": "code",
   "execution_count": null,
   "metadata": {},
   "outputs": [],
   "source": [
    "#load data from file\n",
    "data = np.genfromtxt(filename, delimiter=',')[1:]\n",
    "np.random.seed(100)\n",
    "np.random.shuffle(data)\n",
    "data = data.astype(float)"
   ]
  },
  {
   "cell_type": "code",
   "execution_count": null,
   "metadata": {},
   "outputs": [],
   "source": [
    "#separate training and testing data\n",
    "trainx = data[:45000, :13]\n",
    "testx = data[45000:, :13]"
   ]
  },
  {
   "cell_type": "code",
   "execution_count": null,
   "metadata": {},
   "outputs": [],
   "source": [
    "if version >= 4:\n",
    "    trainy = data[:45000, 16]\n",
    "    testy = data[45000:, 16]"
   ]
  },
  {
   "cell_type": "code",
   "execution_count": null,
   "metadata": {},
   "outputs": [],
   "source": [
    "if version <= 3:\n",
    "    trainy = data[:45000, 13]\n",
    "    testy = data[45000:, 13]"
   ]
  },
  {
   "cell_type": "code",
   "execution_count": null,
   "metadata": {},
   "outputs": [],
   "source": [
    "#normalize data\n",
    "mean = trainx.mean(axis=0)\n",
    "std = trainx.std(axis=0)\n",
    "trainx -= mean\n",
    "trainx /= std\n",
    "testx -= mean\n",
    "testx /= std"
   ]
  },
  {
   "cell_type": "code",
   "execution_count": null,
   "metadata": {},
   "outputs": [],
   "source": [
    "#create model\n",
    "model = Sequential()"
   ]
  },
  {
   "cell_type": "code",
   "execution_count": null,
   "metadata": {},
   "outputs": [],
   "source": [
    "if version == 3:\n",
    "    model.add(Dense(13, input_dim = 13, activation='tanh'))\n",
    "    model.add(Dense(10, input_dim = 13, activation='tanh'))\n",
    "    model.add(Dense(10, input_dim = 11, activation='tanh'))\n",
    "    model.add(Dense(1, input_dim = 10, activation='relu'))\n",
    "    model.compile(loss='mse', optimizer='adam')"
   ]
  },
  {
   "cell_type": "code",
   "execution_count": null,
   "metadata": {},
   "outputs": [],
   "source": [
    "if version == 4:\n",
    "    model.add(Dense(13, input_dim = 13, activation='tanh'))\n",
    "    model.add(Dense(10, input_dim = 13, activation='tanh'))\n",
    "    model.add(Dense(10, input_dim = 11, activation='tanh'))\n",
    "    model.add(Dense(1, input_dim = 10, activation='sigmoid'))\n",
    "    model.compile(loss='mse', optimizer='adam')"
   ]
  },
  {
   "cell_type": "code",
   "execution_count": null,
   "metadata": {},
   "outputs": [],
   "source": [
    "#load previously trained waits\n",
    "if iteration > 0:\n",
    "    model.load_weights('./params'+str(version)+'-'+str(iteration))"
   ]
  },
  {
   "cell_type": "code",
   "execution_count": null,
   "metadata": {},
   "outputs": [],
   "source": [
    "#train the model\n",
    "if training:\n",
    "    history = model.fit(trainx, trainy, epochs=200 ,batch_size=100, verbose = 2, validation_data = (testx, testy))\n",
    "    model.save_weights('./params'+str(version)+'-'+str(iteration+1))"
   ]
  },
  {
   "cell_type": "code",
   "execution_count": null,
   "metadata": {},
   "outputs": [],
   "source": [
    "#test the model\n",
    "prediction = model.predict(testx)\n",
    "#print(prediction[:10])\n",
    "#print(testy[:10])"
   ]
  },
  {
   "cell_type": "code",
   "execution_count": null,
   "metadata": {},
   "outputs": [],
   "source": [
    "print(\"prediction      actual\")\n",
    "for i in range(20):\n",
    "    print(\"%10f    %10f\" % (prediction[i], testy[i]))"
   ]
  }
 ],
 "metadata": {
  "jupytext": {
   "cell_metadata_filter": "-all",
   "executable": "/usr/bin/env python3",
   "main_language": "python",
   "notebook_metadata_filter": "-all"
  }
 },
 "nbformat": 4,
 "nbformat_minor": 2
}
