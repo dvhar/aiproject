{
 "cells": [
  {
   "cell_type": "code",
   "execution_count": null,
   "metadata": {
    "lines_to_next_cell": 0
   },
   "outputs": [],
   "source": []
  },
  {
   "cell_type": "code",
   "execution_count": 1,
   "metadata": {},
   "outputs": [
    {
     "name": "stderr",
     "output_type": "stream",
     "text": [
      "Using TensorFlow backend.\n"
     ]
    }
   ],
   "source": [
    "import numpy as np\n",
    "from keras.models import Sequential\n",
    "from keras.layers import Dense\n",
    "import matplotlib.pyplot as plt"
   ]
  },
  {
   "cell_type": "code",
   "execution_count": 2,
   "metadata": {},
   "outputs": [],
   "source": [
    "fname = \"weven.csv\""
   ]
  },
  {
   "cell_type": "code",
   "execution_count": 3,
   "metadata": {},
   "outputs": [],
   "source": [
    "#load data from file\n",
    "data = np.genfromtxt(fname, delimiter=',')[1:]\n",
    "np.random.shuffle(data)\n",
    "data = data.astype(float)"
   ]
  },
  {
   "cell_type": "code",
   "execution_count": 4,
   "metadata": {
    "lines_to_next_cell": 2
   },
   "outputs": [],
   "source": [
    "trainx = data[:40000, :13]\n",
    "trainy = data[:40000, 15:]\n",
    "testx = data[40000:, :13]\n",
    "testy = data[40000:, 15:]"
   ]
  },
  {
   "cell_type": "code",
   "execution_count": 5,
   "metadata": {
    "lines_to_next_cell": 2
   },
   "outputs": [],
   "source": [
    "ii=0\n",
    "#for x in np.isnan(data):\n",
    "for x in data:\n",
    "    ii+=1\n",
    "    for y in np.isnan(x):\n",
    "        if y:\n",
    "            print(ii, x)\n",
    "            break"
   ]
  },
  {
   "cell_type": "markdown",
   "metadata": {
    "lines_to_next_cell": 2
   },
   "source": [
    "show data\n",
    "print(train.shape)\n",
    "print(train)\n",
    "print(validate.shape)"
   ]
  },
  {
   "cell_type": "code",
   "execution_count": 6,
   "metadata": {},
   "outputs": [],
   "source": [
    "#create model\n",
    "model = Sequential()\n",
    "model.add(Dense(10, input_dim = 13, activation='tanh'))\n",
    "model.add(Dense(10, input_dim = 10, activation='tanh'))\n",
    "model.add(Dense(2, input_dim = 10, activation='sigmoid'))"
   ]
  },
  {
   "cell_type": "code",
   "execution_count": 7,
   "metadata": {
    "lines_to_next_cell": 2
   },
   "outputs": [
    {
     "name": "stdout",
     "output_type": "stream",
     "text": [
      "_________________________________________________________________\n",
      "Layer (type)                 Output Shape              Param #   \n",
      "=================================================================\n",
      "dense_1 (Dense)              (None, 10)                140       \n",
      "_________________________________________________________________\n",
      "dense_2 (Dense)              (None, 10)                110       \n",
      "_________________________________________________________________\n",
      "dense_3 (Dense)              (None, 2)                 22        \n",
      "=================================================================\n",
      "Total params: 272\n",
      "Trainable params: 272\n",
      "Non-trainable params: 0\n",
      "_________________________________________________________________\n",
      "None\n"
     ]
    }
   ],
   "source": [
    "print(model.summary())\n",
    "model.compile(loss='mae', optimizer='adam')"
   ]
  },
  {
   "cell_type": "code",
   "execution_count": null,
   "metadata": {},
   "outputs": [
    {
     "name": "stdout",
     "output_type": "stream",
     "text": [
      "Train on 40000 samples, validate on 10900 samples\n",
      "Epoch 1/100\n",
      " - 4s - loss: 0.3665 - val_loss: 0.3610\n",
      "Epoch 2/100\n",
      " - 3s - loss: 0.3592 - val_loss: 0.3605\n",
      "Epoch 3/100\n",
      " - 4s - loss: 0.3590 - val_loss: 0.3605\n",
      "Epoch 4/100\n",
      " - 4s - loss: 0.3590 - val_loss: 0.3605\n",
      "Epoch 5/100\n",
      " - 4s - loss: 0.3590 - val_loss: 0.3605\n",
      "Epoch 6/100\n",
      " - 4s - loss: 0.3590 - val_loss: 0.3605\n",
      "Epoch 7/100\n",
      " - 4s - loss: 0.3590 - val_loss: 0.3605\n",
      "Epoch 8/100\n",
      " - 4s - loss: 0.3590 - val_loss: 0.3605\n",
      "Epoch 9/100\n",
      " - 4s - loss: 0.3590 - val_loss: 0.3605\n",
      "Epoch 10/100\n",
      " - 4s - loss: 0.3590 - val_loss: 0.3605\n",
      "Epoch 11/100\n",
      " - 4s - loss: 0.3590 - val_loss: 0.3605\n",
      "Epoch 12/100\n",
      " - 4s - loss: 0.3590 - val_loss: 0.3605\n",
      "Epoch 13/100\n",
      " - 3s - loss: 0.3590 - val_loss: 0.3605\n",
      "Epoch 14/100\n",
      " - 4s - loss: 0.3590 - val_loss: 0.3605\n",
      "Epoch 15/100\n",
      " - 4s - loss: 0.3590 - val_loss: 0.3605\n",
      "Epoch 16/100\n",
      " - 4s - loss: 0.3590 - val_loss: 0.3605\n",
      "Epoch 17/100\n",
      " - 6s - loss: 0.3590 - val_loss: 0.3605\n",
      "Epoch 18/100\n",
      " - 4s - loss: 0.3590 - val_loss: 0.3605\n",
      "Epoch 19/100\n",
      " - 3s - loss: 0.3590 - val_loss: 0.3605\n",
      "Epoch 20/100\n",
      " - 4s - loss: 0.3590 - val_loss: 0.3605\n",
      "Epoch 21/100\n",
      " - 3s - loss: 0.3590 - val_loss: 0.3605\n",
      "Epoch 22/100\n",
      " - 4s - loss: 0.3590 - val_loss: 0.3605\n",
      "Epoch 23/100\n",
      " - 4s - loss: 0.3590 - val_loss: 0.3605\n",
      "Epoch 24/100\n",
      " - 4s - loss: 0.3590 - val_loss: 0.3605\n",
      "Epoch 25/100\n",
      " - 4s - loss: 0.3590 - val_loss: 0.3605\n",
      "Epoch 26/100\n",
      " - 4s - loss: 0.3590 - val_loss: 0.3605\n",
      "Epoch 27/100\n"
     ]
    }
   ],
   "source": [
    "history = model.fit(trainx, trainy, epochs=100 ,batch_size=10, verbose = 2, validation_data = (testx, testy))"
   ]
  },
  {
   "cell_type": "code",
   "execution_count": null,
   "metadata": {},
   "outputs": [],
   "source": [
    "prediction = model.predict(testx)\n",
    "print(prediction[:20])\n",
    "print(testy[:20])"
   ]
  }
 ],
 "metadata": {
  "jupytext": {
   "cell_metadata_filter": "-all",
   "executable": "/usr/bin/env python3",
   "main_language": "python",
   "notebook_metadata_filter": "-all"
  },
  "kernelspec": {
   "display_name": "Python 3",
   "language": "python",
   "name": "python3"
  },
  "language_info": {
   "codemirror_mode": {
    "name": "ipython",
    "version": 3
   },
   "file_extension": ".py",
   "mimetype": "text/x-python",
   "name": "python",
   "nbconvert_exporter": "python",
   "pygments_lexer": "ipython3",
   "version": "3.6.8"
  }
 },
 "nbformat": 4,
 "nbformat_minor": 2
}
