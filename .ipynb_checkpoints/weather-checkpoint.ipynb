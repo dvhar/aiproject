{
 "cells": [
  {
   "cell_type": "code",
   "execution_count": null,
   "metadata": {
    "lines_to_next_cell": 0
   },
   "outputs": [],
   "source": []
  },
  {
   "cell_type": "code",
   "execution_count": 1,
   "metadata": {
    "lines_to_next_cell": 2
   },
   "outputs": [
    {
     "name": "stderr",
     "output_type": "stream",
     "text": [
      "Using TensorFlow backend.\n"
     ]
    },
    {
     "name": "stdout",
     "output_type": "stream",
     "text": [
      "[0.02765408]\n"
     ]
    }
   ],
   "source": [
    "import numpy as np\n",
    "from keras.models import Sequential\n",
    "from keras.layers import Dense\n",
    "from pprint import pprint\n",
    "from mymodel import mymodel"
   ]
  },
  {
   "cell_type": "markdown",
   "metadata": {},
   "source": [
    "iteration is which file it loads, then saves to one higher"
   ]
  },
  {
   "cell_type": "code",
   "execution_count": 3,
   "metadata": {},
   "outputs": [],
   "source": [
    "iteration = 1"
   ]
  },
  {
   "cell_type": "code",
   "execution_count": 4,
   "metadata": {},
   "outputs": [],
   "source": [
    "#tanh final version\n",
    "version = 10"
   ]
  },
  {
   "cell_type": "markdown",
   "metadata": {},
   "source": [
    "linear neural network\n",
    "version = 10"
   ]
  },
  {
   "cell_type": "markdown",
   "metadata": {},
   "source": [
    "linear regression\n",
    "version = 11"
   ]
  },
  {
   "cell_type": "markdown",
   "metadata": {},
   "source": [
    "linear regression with hard sigmoid\n",
    "version = 12"
   ]
  },
  {
   "cell_type": "code",
   "execution_count": 5,
   "metadata": {},
   "outputs": [],
   "source": [
    "#what to do\n",
    "training = False\n",
    "printweights = False\n",
    "runprediction = True"
   ]
  },
  {
   "cell_type": "code",
   "execution_count": 6,
   "metadata": {},
   "outputs": [],
   "source": [
    "filename = \"weatherCleaned4.csv\"\n",
    "outIdx = 16\n",
    "inIdx = 16"
   ]
  },
  {
   "cell_type": "code",
   "execution_count": 6,
   "metadata": {},
   "outputs": [],
   "source": [
    "#testing\n",
    "#epochs = 500\n",
    "#full training\n",
    "epochs = 25000"
   ]
  },
  {
   "cell_type": "code",
   "execution_count": 7,
   "metadata": {},
   "outputs": [],
   "source": [
    "rowDelim = 50000"
   ]
  },
  {
   "cell_type": "code",
   "execution_count": 8,
   "metadata": {},
   "outputs": [],
   "source": [
    "#load data from file\n",
    "data = np.genfromtxt(filename, delimiter=',')[1:]\n",
    "data = data[:,[2,3,4,5,6,8,11,12,13,14,15,16,17,18,19,20,23]]"
   ]
  },
  {
   "cell_type": "code",
   "execution_count": 9,
   "metadata": {
    "lines_to_next_cell": 2
   },
   "outputs": [],
   "source": [
    "#np.random.seed(100)\n",
    "np.random.shuffle(data)\n",
    "data = data.astype(float)"
   ]
  },
  {
   "cell_type": "code",
   "execution_count": 10,
   "metadata": {},
   "outputs": [],
   "source": [
    "#separate training and testing data\n",
    "trainy = data[:rowDelim, outIdx]\n",
    "testy = data[rowDelim:, outIdx]\n",
    "trainx = data[:rowDelim, :inIdx]\n",
    "testx = data[rowDelim:, :inIdx]"
   ]
  },
  {
   "cell_type": "code",
   "execution_count": 11,
   "metadata": {},
   "outputs": [],
   "source": [
    "#normalize data\n",
    "mean = trainx.mean(axis=0)\n",
    "std = trainx.std(axis=0)\n",
    "trainx -= mean\n",
    "trainx /= std\n",
    "testx -= mean\n",
    "testx /= std"
   ]
  },
  {
   "cell_type": "code",
   "execution_count": null,
   "metadata": {},
   "outputs": [],
   "source": [
    "if printweights:\n",
    "    print('mean = ')\n",
    "    pprint(mean)\n",
    "    print('std = ')\n",
    "    pprint(std)"
   ]
  },
  {
   "cell_type": "code",
   "execution_count": 12,
   "metadata": {},
   "outputs": [],
   "source": [
    "#create model\n",
    "model = Sequential()"
   ]
  },
  {
   "cell_type": "code",
   "execution_count": 12,
   "metadata": {},
   "outputs": [],
   "source": [
    "if version == 9:\n",
    "    model.add(Dense(12, input_dim = 16, activation='tanh'))\n",
    "    model.add(Dense(10, input_dim = 12, activation='tanh'))\n",
    "    model.add(Dense(10, input_dim = 10, activation='tanh'))\n",
    "    model.add(Dense(1, input_dim = 10, activation='sigmoid'))"
   ]
  },
  {
   "cell_type": "code",
   "execution_count": 13,
   "metadata": {},
   "outputs": [],
   "source": [
    "if version == 10:\n",
    "    model.add(Dense(12, input_dim = 16, activation='linear'))\n",
    "    model.add(Dense(10, input_dim = 12, activation='linear'))\n",
    "    model.add(Dense(10, input_dim = 10, activation='linear'))\n",
    "    model.add(Dense(1, input_dim = 10, activation='linear'))"
   ]
  },
  {
   "cell_type": "code",
   "execution_count": null,
   "metadata": {},
   "outputs": [],
   "source": [
    "if version == 11:\n",
    "    model.add(Dense(1, input_dim = 16, activation='linear'))"
   ]
  },
  {
   "cell_type": "code",
   "execution_count": null,
   "metadata": {},
   "outputs": [],
   "source": [
    "if version == 12:\n",
    "    model.add(Dense(1, input_dim = 16, activation='hard_sigmoid'))"
   ]
  },
  {
   "cell_type": "code",
   "execution_count": 14,
   "metadata": {},
   "outputs": [],
   "source": [
    "model.compile(loss='mse', optimizer='adam')"
   ]
  },
  {
   "cell_type": "code",
   "execution_count": 15,
   "metadata": {},
   "outputs": [],
   "source": [
    "#load previously trained weights\n",
    "if iteration > 0:\n",
    "    model.load_weights('./params'+str(version)+'-'+str(iteration))"
   ]
  },
  {
   "cell_type": "code",
   "execution_count": null,
   "metadata": {},
   "outputs": [],
   "source": [
    "#train the model\n",
    "if training:\n",
    "    history = model.fit(trainx, trainy, epochs=epochs ,batch_size=100, verbose = 2, validation_data = (testx, testy))\n",
    "    model.save_weights('./params'+str(version)+'-'+str(iteration+1))"
   ]
  },
  {
   "cell_type": "code",
   "execution_count": null,
   "metadata": {},
   "outputs": [],
   "source": [
    "#print weights and biases for mymodel\n",
    "if printweights:\n",
    "    for layer in model.layers:\n",
    "        print('weights = ')\n",
    "        pprint(layer.get_weights()[0])\n",
    "        print('biases = ')\n",
    "        pprint(layer.get_weights()[1])"
   ]
  },
  {
   "cell_type": "code",
   "execution_count": 16,
   "metadata": {},
   "outputs": [
    {
     "name": "stdout",
     "output_type": "stream",
     "text": [
      "kprediction      actual        myprediction\n",
      "  0.192168      1.000000       0.076597\n",
      "  0.142735      0.000000       0.106478\n",
      "  0.516257      1.000000       0.805857\n",
      "  0.246459      0.000000       0.303368\n",
      "  0.123066      0.000000       0.077342\n",
      "  0.312650      1.000000       0.319118\n",
      "  0.191587      0.000000       0.001928\n",
      "  0.129693      1.000000       0.079428\n",
      "  0.219686      1.000000       0.264024\n",
      "  0.010060      0.000000       0.012317\n",
      " -0.116856      0.000000       0.001929\n",
      "  0.071161      0.000000       0.077344\n",
      "  0.028714      0.000000       0.001928\n",
      "  0.208099      1.000000       0.074890\n",
      "  0.161589      0.000000       0.202941\n",
      "  0.335151      1.000000       0.128796\n",
      "  0.608998      1.000000       0.810417\n",
      "  0.914282      1.000000       0.868126\n",
      "  0.074392      0.000000       0.077337\n",
      " -0.000891      0.000000       0.055402\n",
      "mean squared error: 0.10969603022689664\n"
     ]
    }
   ],
   "source": [
    "#test the model\n",
    "if runprediction:\n",
    "    output = np.squeeze(model.predict(testx))\n",
    "    print(\"kprediction      actual        myprediction\")\n",
    "    for i in range(20):\n",
    "        print(\"%10f    %10f     %10f\" % (output[i], testy[i], mymodel(testx[i])))\n",
    "    print('mean squared error:',np.mean((output-testy)**2))"
   ]
  }
 ],
 "metadata": {
  "jupytext": {
   "cell_metadata_filter": "-all",
   "executable": "/usr/bin/env python3",
   "main_language": "python",
   "notebook_metadata_filter": "-all"
  },
  "kernelspec": {
   "display_name": "Python 3",
   "language": "python",
   "name": "python3"
  },
  "language_info": {
   "codemirror_mode": {
    "name": "ipython",
    "version": 3
   },
   "file_extension": ".py",
   "mimetype": "text/x-python",
   "name": "python",
   "nbconvert_exporter": "python",
   "pygments_lexer": "ipython3",
   "version": "3.6.8"
  }
 },
 "nbformat": 4,
 "nbformat_minor": 2
}
